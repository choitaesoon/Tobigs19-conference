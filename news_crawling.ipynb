{
 "cells": [
  {
   "cell_type": "code",
   "execution_count": null,
   "id": "162ecb01",
   "metadata": {},
   "outputs": [],
   "source": [
    "from bs4 import BeautifulSoup\n",
    "import requests\n",
    "import re\n",
    "import datetime\n",
    "from tqdm import tqdm\n",
    "import sys\n",
    "import numpy as np\n",
    "import pandas as pd\n",
    "import json\n",
    "import jsonlines\n",
    "import re\n",
    "import os\n",
    "import pprint\n",
    "from selenium import webdriver\n",
    "import time\n",
    "import urllib.request\n",
    "from selenium.webdriver.common.by import By\n",
    "from selenium.webdriver.support.ui import WebDriverWait\n",
    "from selenium.webdriver.support import expected_conditions as EC"
   ]
  },
  {
   "cell_type": "markdown",
   "id": "101876a0",
   "metadata": {},
   "source": [
    "## factcheck 데이터 크롤링"
   ]
  },
  {
   "cell_type": "markdown",
   "id": "83a7ebaf",
   "metadata": {},
   "source": [
    "여러 기사들과 라벨링된 데이터들을 수집"
   ]
  },
  {
   "cell_type": "code",
   "execution_count": null,
   "id": "57b4204d",
   "metadata": {},
   "outputs": [],
   "source": [
    "!pip install selenium\n",
    "!apt-get update\n",
    "!apt install chromium-chromedriver"
   ]
  },
  {
   "cell_type": "code",
   "execution_count": null,
   "id": "44e8766e",
   "metadata": {},
   "outputs": [],
   "source": [
    "def text_preprocess(text):\n",
    "    text = re.sub(\"(<span class='quot[0-9]'>|\\n\\r\\n|</span>|<br/>|<br />|([^0-9가-힣A-Za-z. ]))\", \"\", text)\n",
    "    return text\n",
    "\n",
    "content_list = []\n",
    "fact_list = []\n",
    "for i in range(1800, 4910):\n",
    "    try:\n",
    "        url = f\"https://factcheck.snu.ac.kr/facts/show?id={i}\"\n",
    "        driver = webdriver.Chrome('chromedriver')\n",
    "\n",
    "        try:\n",
    "            driver.get(url)\n",
    "\n",
    "            wait = WebDriverWait(driver, 10)\n",
    "            element = wait.until(EC.presence_of_element_located((By.CSS_SELECTOR, \"#__next > div > div.jsx-1740931948.layout-inner-container > div > div.jsx-2413405417.page-inner-container > div.jsx-2413405417.fact-show-score-card-continer > div.jsx-2413405417.score-inner-container > div.jsx-883562973 > div > div > div > p:nth-child(1)\")))\n",
    "\n",
    "            html = driver.page_source\n",
    "            soup = BeautifulSoup(html, 'html.parser')\n",
    "\n",
    "            list1 = []\n",
    "            for i in range(1, 10):\n",
    "                content = text_preprocess(soup.select(f\"#__next > div > div.jsx-1740931948.layout-inner-container > div > div.jsx-2413405417.page-inner-container > div.jsx-2413405417.fact-show-score-card-continer > div.jsx-2413405417.score-inner-container > div.jsx-883562973 > div > div > div > p:nth-child({i})\")[0].get_text())\n",
    "                list1.append(content)\n",
    "                if (i == 2) & (content == ''):\n",
    "                    continue\n",
    "                elif (i != 1) & (content == ''):\n",
    "                    break\n",
    "            \n",
    "            list1 = [i.strip() for i in list1]\n",
    "\n",
    "            list2 = []\n",
    "            if '검증 대상' in list1:\n",
    "                list2.append('.'.join(list1[list1.index('검증 대상')+1:]))\n",
    "            elif '검증대상' in list1:\n",
    "                list2.append('.'.join(list1[list1.index('검증대상')+1:]))\n",
    "            else:\n",
    "                list2.append('검증 대상 없음')\n",
    "            content_list.append(list2[0])\n",
    "\n",
    "            label = soup.select('#__next > div > div.jsx-1740931948.layout-inner-container > div > div.jsx-2413405417.page-inner-container > div.jsx-2413405417.fact-show-score-card-continer > div.jsx-2413405417.dial-press-logo-container > div.jsx-2413405417.fact-dial-container')[0].get_text()\n",
    "            fact_list.append(label)\n",
    "        except Exception as e:\n",
    "            print(f\"Error occurred for i = {i}: {str(e)}\")\n",
    "            content_list.append('공백')\n",
    "            fact_list.append('공백')\n",
    "        \n",
    "    finally:\n",
    "        driver.quit()"
   ]
  },
  {
   "cell_type": "code",
   "execution_count": null,
   "id": "bd3eac8d",
   "metadata": {},
   "outputs": [],
   "source": [
    "print(content_list.count('검증 대상 없음'), fact_list.count('공백'))\n",
    "print(len(content_list), len(fact_list))"
   ]
  },
  {
   "cell_type": "code",
   "execution_count": null,
   "id": "010978cc",
   "metadata": {},
   "outputs": [],
   "source": [
    "df = pd.DataFrame({'검증 대상 내용' : content_list, '사실 여부' : fact_list})\n",
    "df.head(5)"
   ]
  },
  {
   "cell_type": "code",
   "execution_count": null,
   "id": "5328cecc",
   "metadata": {},
   "outputs": [],
   "source": [
    "os.chdir('C:/Users/cts08/Desktop')\n",
    "df.to_csv('fc_data.csv')"
   ]
  },
  {
   "cell_type": "code",
   "execution_count": null,
   "id": "7719d926",
   "metadata": {},
   "outputs": [],
   "source": [
    "data = pd.read_csv('C:/Users/cts08/Desktop/fc_data.csv')\n",
    "data.index = data.index + 1\n",
    "factcheck_list = data.drop(labels='Unnamed: 0', axis = 1)"
   ]
  },
  {
   "cell_type": "code",
   "execution_count": null,
   "id": "97b857eb",
   "metadata": {},
   "outputs": [],
   "source": [
    "none_list = factcheck_list[factcheck_list['content'] == '검증 대상 없음']"
   ]
  },
  {
   "cell_type": "code",
   "execution_count": null,
   "id": "7dce1b8c",
   "metadata": {},
   "outputs": [],
   "source": [
    "for i in list(none_list.index):\n",
    "    try:\n",
    "        url = f\"https://factcheck.snu.ac.kr/facts/show?id={i}\"\n",
    "        driver = webdriver.Chrome('chromedriver')\n",
    "\n",
    "        try:\n",
    "            driver.get(url)\n",
    "\n",
    "            wait = WebDriverWait(driver, 10)\n",
    "            element = wait.until(EC.presence_of_element_located((By.CSS_SELECTOR, \"#__next > div > div.jsx-1740931948.layout-inner-container > div > div.jsx-2413405417.page-inner-container > div.jsx-2413405417.fact-show-score-card-continer > div.jsx-2413405417.score-inner-container > div.jsx-883562973 > div > div > div > p:nth-child(1)\")))\n",
    "\n",
    "            html = driver.page_source\n",
    "            soup = BeautifulSoup(html, 'html.parser')\n",
    "\n",
    "            content = text_preprocess(soup.select('#__next > div > div.jsx-1740931948.layout-inner-container > div > div.jsx-2413405417.background-container > div > div:nth-child(2) > div.jsx-2413405417.fact-lead-message')[0].get_text())\n",
    "            none_list.loc[i, 'content'] = content\n",
    "            \n",
    "        except Exception as e:\n",
    "            print(f\"Error occurred for i = {i}: {str(e)}\")\n",
    "            none_list.loc[i, 'content'] = '없음'\n",
    "        \n",
    "    finally:\n",
    "        driver.quit()"
   ]
  },
  {
   "cell_type": "code",
   "execution_count": null,
   "id": "e7525287",
   "metadata": {},
   "outputs": [],
   "source": [
    "f_list = factcheck_list.copy()\n",
    "f_list.head(3)"
   ]
  },
  {
   "cell_type": "code",
   "execution_count": null,
   "id": "3fbe4365",
   "metadata": {},
   "outputs": [],
   "source": [
    "none_list.loc[1, 'content'], f_list.loc[i, 'content']"
   ]
  },
  {
   "cell_type": "code",
   "execution_count": null,
   "id": "0abb32f8",
   "metadata": {},
   "outputs": [],
   "source": [
    "for i in list(none_list.index):\n",
    "    f_list.loc[i,'content'] = none_list.loc[i, 'content']"
   ]
  },
  {
   "cell_type": "code",
   "execution_count": null,
   "id": "b0451732",
   "metadata": {},
   "outputs": [],
   "source": [
    "os.chdir('C:/Users/cts08/Desktop')\n",
    "f_list.to_csv('factcheck_data.csv')"
   ]
  },
  {
   "cell_type": "markdown",
   "id": "2340f63a",
   "metadata": {},
   "source": [
    "## 실제 뉴스 크롤링"
   ]
  },
  {
   "cell_type": "markdown",
   "id": "d74ecf40",
   "metadata": {},
   "source": [
    "fackcheck에서 가짜뉴스 데이터와 올바른뉴스의 분포가 비대칭이라고 판단하여 올바른 데이터셋을 더 추가해주는 작업"
   ]
  },
  {
   "cell_type": "markdown",
   "id": "487ca0a9",
   "metadata": {},
   "source": [
    "#### 중앙일보(300개)"
   ]
  },
  {
   "cell_type": "code",
   "execution_count": null,
   "id": "a1bc0a4a",
   "metadata": {},
   "outputs": [],
   "source": [
    "def text_preprocess(text):\n",
    "    text = re.sub(\"(<span class='quot[0-9]'>|\\n\\r\\n|</span>|<br/>|<br />|([^0-9가-힣A-Za-z. ]))\",\"\",text)\n",
    "    return text"
   ]
  },
  {
   "cell_type": "code",
   "execution_count": null,
   "id": "7a122d06",
   "metadata": {},
   "outputs": [],
   "source": [
    "joongang_content = []\n",
    "count = 0\n",
    "while count < 301:\n",
    "    num = 25173910 - count*10\n",
    "    joongang_url = 'https://www.joongang.co.kr/article/' + str(num)\n",
    "    requested = requests.get(joongang_url, 'html.parser')\n",
    "    soup = BeautifulSoup(requested.content)\n",
    "\n",
    "    news_content = soup.select('#article_body') #textBody\n",
    "\n",
    "    if news_content != []:\n",
    "        joongang_content.append(text_preprocess(news_content[0].get_text()))\n",
    "        count += 1\n",
    "    elif news_content == []:\n",
    "        count += 1"
   ]
  },
  {
   "cell_type": "markdown",
   "id": "f94b0b78",
   "metadata": {},
   "source": [
    "#### 서울일보(250개)"
   ]
  },
  {
   "cell_type": "code",
   "execution_count": null,
   "id": "eb8bc290",
   "metadata": {},
   "outputs": [],
   "source": [
    "seoul_content = []\n",
    "count = 0\n",
    "while count < 300:\n",
    "    num = 619000 - count*10\n",
    "    joongang_url = 'http://www.seoulilbo.com/news/articleView.html?idxno=' + str(num)\n",
    "    requested = requests.get(joongang_url, headers={'User-Agent':'Mozilla/5.0'})\n",
    "    soup = BeautifulSoup(requested.content)\n",
    "\n",
    "    news_content = soup.select('#article-view-content-div') #textBody\n",
    "\n",
    "    if news_content != []:\n",
    "        seoul_content.append(text_preprocess(news_content[0].get_text()))\n",
    "        count += 1\n",
    "    elif news_content == []:\n",
    "        count += 1"
   ]
  },
  {
   "cell_type": "markdown",
   "id": "0e88330c",
   "metadata": {},
   "source": [
    "#### 내일신문(250개)"
   ]
  },
  {
   "cell_type": "code",
   "execution_count": null,
   "id": "f441e4f0",
   "metadata": {},
   "outputs": [],
   "source": [
    "naeil_content = []\n",
    "count = 0\n",
    "while count < 300:\n",
    "    num = 465656 - count*10\n",
    "    naeil_url = 'http://www.naeil.com/news_view/?id_art=' + str(num)\n",
    "    requested = requests.get(naeil_url, headers={'User-Agent':'Mozilla/5.0'})\n",
    "    soup = BeautifulSoup(requested.content)\n",
    "\n",
    "    news_content = soup.select('#contents') #textBody\n",
    "\n",
    "    if news_content != []:\n",
    "        naeil_content.append(text_preprocess(news_content[0].get_text()))\n",
    "        count += 1\n",
    "    elif news_content == []:\n",
    "        count += 1"
   ]
  },
  {
   "cell_type": "markdown",
   "id": "647cf81a",
   "metadata": {},
   "source": [
    "#### 뉴스 통합"
   ]
  },
  {
   "cell_type": "code",
   "execution_count": null,
   "id": "11ca32b7",
   "metadata": {},
   "outputs": [],
   "source": [
    "news_content = joongang_content + seoul_content + naeil_content"
   ]
  },
  {
   "cell_type": "code",
   "execution_count": null,
   "id": "6a32d2be",
   "metadata": {},
   "outputs": [],
   "source": [
    "true_df = pd.DataFrame(list(zip(news_content,label)), columns = ['contents','label'])\n",
    "true_df.head(5)"
   ]
  },
  {
   "cell_type": "code",
   "execution_count": null,
   "id": "773e44dd",
   "metadata": {},
   "outputs": [],
   "source": [
    "true_df.to_csv('true_data.csv')"
   ]
  }
 ],
 "metadata": {
  "kernelspec": {
   "display_name": "Python 3 (ipykernel)",
   "language": "python",
   "name": "python3"
  },
  "language_info": {
   "codemirror_mode": {
    "name": "ipython",
    "version": 3
   },
   "file_extension": ".py",
   "mimetype": "text/x-python",
   "name": "python",
   "nbconvert_exporter": "python",
   "pygments_lexer": "ipython3",
   "version": "3.9.15"
  }
 },
 "nbformat": 4,
 "nbformat_minor": 5
}
